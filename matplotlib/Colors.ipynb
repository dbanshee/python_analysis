{
 "cells": [
  {
   "cell_type": "code",
   "execution_count": 1,
   "metadata": {
    "collapsed": true
   },
   "outputs": [],
   "source": [
    "# library & dataset\n",
    "from matplotlib import pyplot as plt\n",
    "import numpy as np\n"
   ]
  },
  {
   "cell_type": "code",
   "execution_count": 2,
   "metadata": {},
   "outputs": [
    {
     "data": {
      "text/plain": [
       "<matplotlib.collections.PathCollection at 0x11cc75c50>"
      ]
     },
     "execution_count": 2,
     "metadata": {},
     "output_type": "execute_result"
    }
   ],
   "source": [
    "x = np.random.rand(15)\n",
    "y = x+np.random.rand(15)\n",
    "z = x+np.random.rand(15)\n",
    "z=z*z\n",
    " \n",
    "# Use it with a call in cmap\n",
    "plt.scatter(x, y, s=z*2000, c=x, cmap=\"BuPu\", alpha=0.4, edgecolors=\"grey\", linewidth=2)\n",
    " \n",
    "# You can reverse it:\n",
    "plt.scatter(x, y, s=z*2000, c=x, cmap=\"BuPu_r\", alpha=0.4, edgecolors=\"grey\", linewidth=2)\n",
    " \n",
    "# OTHER: viridis / inferno / plasma / magma\n",
    "plt.scatter(x, y, s=z*2000, c=x, cmap=\"plasma\", alpha=0.4, edgecolors=\"grey\", linewidth=2)\n"
   ]
  },
  {
   "cell_type": "code",
   "execution_count": null,
   "metadata": {
    "collapsed": true
   },
   "outputs": [],
   "source": []
  }
 ],
 "metadata": {
  "kernelspec": {
   "display_name": "Python 3",
   "language": "python",
   "name": "python3"
  },
  "language_info": {
   "codemirror_mode": {
    "name": "ipython",
    "version": 3
   },
   "file_extension": ".py",
   "mimetype": "text/x-python",
   "name": "python",
   "nbconvert_exporter": "python",
   "pygments_lexer": "ipython3",
   "version": "3.6.3"
  }
 },
 "nbformat": 4,
 "nbformat_minor": 2
}
