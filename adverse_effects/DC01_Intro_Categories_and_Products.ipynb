{
 "cells": [
  {
   "cell_type": "code",
   "execution_count": 1,
   "metadata": {
    "collapsed": true
   },
   "outputs": [],
   "source": [
    "\"\"\"\n",
    "Created on Fri May 18 23:44:52 2018\n",
    "\n",
    "@author: rocio\n",
    "\"\"\"\n",
    "\n",
    "import pandas as pd\n",
    "import numpy as np\n",
    "import seaborn as sns\n",
    "import matplotlib.pyplot as plt\n",
    "import customutils"
   ]
  },
  {
   "cell_type": "markdown",
   "metadata": {},
   "source": [
    "# Dataset Exploration\n",
    "\n",
    "This dataset contains adverse effects reported for different people. This file contains information about the product, the patient (age and gender) and a the list of the adverse effects observed in these patients. The fields included in the dataset are:\n",
    "\n",
    "- RA_Report #\n",
    "- RA_CAERS Created Date\n",
    "- AEC_Event Start Date\n",
    "- PRI_Product Role\n",
    "- PRI_Reported Brand/Product Name\n",
    "- PRI_FDA Industry Code\n",
    "- PRI_FDA Industry Name\n",
    "- CI_Aget at Adverse Event\n",
    "- CI_Age Unit\n",
    "- CI_Gender\n",
    "- AEC_One Row Outcomes\n",
    "- SYM_One Row Coded Symptoms\n",
    "\n",
    "\n",
    "First of all, we will read the data from a tsv file:"
   ]
  },
  {
   "cell_type": "code",
   "execution_count": 2,
   "metadata": {},
   "outputs": [
    {
     "data": {
      "text/plain": [
       "Index(['Unnamed: 0', 'RA_Report #', 'RA_CAERS Created Date',\n",
       "       'AEC_Event Start Date', 'PRI_Product Role',\n",
       "       'PRI_Reported Brand/Product Name', 'PRI_FDA Industry Code',\n",
       "       'PRI_FDA Industry Name', 'CI_Age at Adverse Event', 'CI_Age Unit',\n",
       "       'CI_Gender', 'AEC_One Row Outcomes', 'SYM_One Row Coded Symptoms'],\n",
       "      dtype='object')"
      ]
     },
     "execution_count": 2,
     "metadata": {},
     "output_type": "execute_result"
    }
   ],
   "source": [
    "df = pd.read_csv(\"./CAERS_ASCII_2004_2017Q2.tsv\", sep=\"\\t\")\n",
    "df.columns"
   ]
  },
  {
   "cell_type": "code",
   "execution_count": 3,
   "metadata": {},
   "outputs": [
    {
     "data": {
      "text/html": [
       "<div>\n",
       "<style>\n",
       "    .dataframe thead tr:only-child th {\n",
       "        text-align: right;\n",
       "    }\n",
       "\n",
       "    .dataframe thead th {\n",
       "        text-align: left;\n",
       "    }\n",
       "\n",
       "    .dataframe tbody tr th {\n",
       "        vertical-align: top;\n",
       "    }\n",
       "</style>\n",
       "<table border=\"1\" class=\"dataframe\">\n",
       "  <thead>\n",
       "    <tr style=\"text-align: right;\">\n",
       "      <th></th>\n",
       "      <th>Unnamed: 0</th>\n",
       "      <th>RA_Report #</th>\n",
       "      <th>PRI_FDA Industry Code</th>\n",
       "      <th>CI_Age at Adverse Event</th>\n",
       "    </tr>\n",
       "  </thead>\n",
       "  <tbody>\n",
       "    <tr>\n",
       "      <th>count</th>\n",
       "      <td>90786.000000</td>\n",
       "      <td>90786.000000</td>\n",
       "      <td>90786.000000</td>\n",
       "      <td>52926.000000</td>\n",
       "    </tr>\n",
       "    <tr>\n",
       "      <th>mean</th>\n",
       "      <td>45392.500000</td>\n",
       "      <td>156577.560538</td>\n",
       "      <td>43.058082</td>\n",
       "      <td>50.755319</td>\n",
       "    </tr>\n",
       "    <tr>\n",
       "      <th>std</th>\n",
       "      <td>26207.805106</td>\n",
       "      <td>40382.318513</td>\n",
       "      <td>16.553049</td>\n",
       "      <td>23.249385</td>\n",
       "    </tr>\n",
       "    <tr>\n",
       "      <th>min</th>\n",
       "      <td>0.000000</td>\n",
       "      <td>65325.000000</td>\n",
       "      <td>2.000000</td>\n",
       "      <td>0.000000</td>\n",
       "    </tr>\n",
       "    <tr>\n",
       "      <th>25%</th>\n",
       "      <td>22696.250000</td>\n",
       "      <td>125985.250000</td>\n",
       "      <td>29.000000</td>\n",
       "      <td>35.000000</td>\n",
       "    </tr>\n",
       "    <tr>\n",
       "      <th>50%</th>\n",
       "      <td>45392.500000</td>\n",
       "      <td>168433.000000</td>\n",
       "      <td>54.000000</td>\n",
       "      <td>53.000000</td>\n",
       "    </tr>\n",
       "    <tr>\n",
       "      <th>75%</th>\n",
       "      <td>68088.750000</td>\n",
       "      <td>190410.750000</td>\n",
       "      <td>54.000000</td>\n",
       "      <td>68.000000</td>\n",
       "    </tr>\n",
       "    <tr>\n",
       "      <th>max</th>\n",
       "      <td>90785.000000</td>\n",
       "      <td>214610.000000</td>\n",
       "      <td>54.000000</td>\n",
       "      <td>736.000000</td>\n",
       "    </tr>\n",
       "  </tbody>\n",
       "</table>\n",
       "</div>"
      ],
      "text/plain": [
       "         Unnamed: 0    RA_Report #  PRI_FDA Industry Code  \\\n",
       "count  90786.000000   90786.000000           90786.000000   \n",
       "mean   45392.500000  156577.560538              43.058082   \n",
       "std    26207.805106   40382.318513              16.553049   \n",
       "min        0.000000   65325.000000               2.000000   \n",
       "25%    22696.250000  125985.250000              29.000000   \n",
       "50%    45392.500000  168433.000000              54.000000   \n",
       "75%    68088.750000  190410.750000              54.000000   \n",
       "max    90785.000000  214610.000000              54.000000   \n",
       "\n",
       "       CI_Age at Adverse Event  \n",
       "count             52926.000000  \n",
       "mean                 50.755319  \n",
       "std                  23.249385  \n",
       "min                   0.000000  \n",
       "25%                  35.000000  \n",
       "50%                  53.000000  \n",
       "75%                  68.000000  \n",
       "max                 736.000000  "
      ]
     },
     "execution_count": 3,
     "metadata": {},
     "output_type": "execute_result"
    }
   ],
   "source": [
    "df.describe()"
   ]
  },
  {
   "cell_type": "markdown",
   "metadata": {},
   "source": [
    "# Categories and products\n",
    "\n",
    "To make easier de column references we will change the column names. In addition, we will remove duplicates of the resulting dataframe."
   ]
  },
  {
   "cell_type": "code",
   "execution_count": 4,
   "metadata": {
    "scrolled": true
   },
   "outputs": [
    {
     "data": {
      "text/html": [
       "<div>\n",
       "<style>\n",
       "    .dataframe thead tr:only-child th {\n",
       "        text-align: right;\n",
       "    }\n",
       "\n",
       "    .dataframe thead th {\n",
       "        text-align: left;\n",
       "    }\n",
       "\n",
       "    .dataframe tbody tr th {\n",
       "        vertical-align: top;\n",
       "    }\n",
       "</style>\n",
       "<table border=\"1\" class=\"dataframe\">\n",
       "  <thead>\n",
       "    <tr style=\"text-align: right;\">\n",
       "      <th></th>\n",
       "      <th>productname</th>\n",
       "      <th>categorycode</th>\n",
       "      <th>categoryname</th>\n",
       "    </tr>\n",
       "  </thead>\n",
       "  <tbody>\n",
       "    <tr>\n",
       "      <th>0</th>\n",
       "      <td>MIDWEST COUNTRY FAIR CHOCOLATE FLAVORED CHIPS</td>\n",
       "      <td>3</td>\n",
       "      <td>Bakery Prod/Dough/Mix/Icing</td>\n",
       "    </tr>\n",
       "    <tr>\n",
       "      <th>2</th>\n",
       "      <td>KROGER CLASSIC CREAM-DE-MINT CANDY MINT CHIP I...</td>\n",
       "      <td>13</td>\n",
       "      <td>Ice Cream Prod</td>\n",
       "    </tr>\n",
       "    <tr>\n",
       "      <th>3</th>\n",
       "      <td>ENFAMIL LIPIL BABY FORMULA</td>\n",
       "      <td>40</td>\n",
       "      <td>Baby Food Prod</td>\n",
       "    </tr>\n",
       "    <tr>\n",
       "      <th>4</th>\n",
       "      <td>ENFIMIL LIPIL BABY FORMULA</td>\n",
       "      <td>40</td>\n",
       "      <td>Baby Food Prod</td>\n",
       "    </tr>\n",
       "    <tr>\n",
       "      <th>5</th>\n",
       "      <td>FRITO LAY FUNYUNS ONION FLAVOR, ONION RINGS</td>\n",
       "      <td>7</td>\n",
       "      <td>Snack Food Item</td>\n",
       "    </tr>\n",
       "  </tbody>\n",
       "</table>\n",
       "</div>"
      ],
      "text/plain": [
       "                                         productname  categorycode  \\\n",
       "0      MIDWEST COUNTRY FAIR CHOCOLATE FLAVORED CHIPS             3   \n",
       "2  KROGER CLASSIC CREAM-DE-MINT CANDY MINT CHIP I...            13   \n",
       "3                         ENFAMIL LIPIL BABY FORMULA            40   \n",
       "4                         ENFIMIL LIPIL BABY FORMULA            40   \n",
       "5        FRITO LAY FUNYUNS ONION FLAVOR, ONION RINGS             7   \n",
       "\n",
       "                  categoryname  \n",
       "0  Bakery Prod/Dough/Mix/Icing  \n",
       "2               Ice Cream Prod  \n",
       "3               Baby Food Prod  \n",
       "4               Baby Food Prod  \n",
       "5              Snack Food Item  "
      ]
     },
     "execution_count": 4,
     "metadata": {},
     "output_type": "execute_result"
    }
   ],
   "source": [
    "df_products = df[['PRI_Reported Brand/Product Name', \n",
    "                 'PRI_FDA Industry Code', \n",
    "                 'PRI_FDA Industry Name']]\n",
    "\n",
    "df_products.columns = ['productname', 'categorycode', 'categoryname']\n",
    "df_products = df_products.drop_duplicates()\n",
    "df_products.head()"
   ]
  },
  {
   "cell_type": "code",
   "execution_count": 5,
   "metadata": {},
   "outputs": [
    {
     "data": {
      "text/plain": [
       "(46002, 3)"
      ]
     },
     "execution_count": 5,
     "metadata": {},
     "output_type": "execute_result"
    }
   ],
   "source": [
    "df_products.shape"
   ]
  },
  {
   "cell_type": "markdown",
   "metadata": {},
   "source": [
    "## How many different elements are there in each column?"
   ]
  },
  {
   "cell_type": "code",
   "execution_count": 6,
   "metadata": {},
   "outputs": [
    {
     "data": {
      "text/html": [
       "<div>\n",
       "<style>\n",
       "    .dataframe thead tr:only-child th {\n",
       "        text-align: right;\n",
       "    }\n",
       "\n",
       "    .dataframe thead th {\n",
       "        text-align: left;\n",
       "    }\n",
       "\n",
       "    .dataframe tbody tr th {\n",
       "        vertical-align: top;\n",
       "    }\n",
       "</style>\n",
       "<table border=\"1\" class=\"dataframe\">\n",
       "  <thead>\n",
       "    <tr style=\"text-align: right;\">\n",
       "      <th></th>\n",
       "      <th>column</th>\n",
       "      <th>nuniquevalues</th>\n",
       "    </tr>\n",
       "  </thead>\n",
       "  <tbody>\n",
       "    <tr>\n",
       "      <th>0</th>\n",
       "      <td>categorycodes</td>\n",
       "      <td>44</td>\n",
       "    </tr>\n",
       "    <tr>\n",
       "      <th>1</th>\n",
       "      <td>categorynames</td>\n",
       "      <td>41</td>\n",
       "    </tr>\n",
       "    <tr>\n",
       "      <th>2</th>\n",
       "      <td>porductnames</td>\n",
       "      <td>45685</td>\n",
       "    </tr>\n",
       "  </tbody>\n",
       "</table>\n",
       "</div>"
      ],
      "text/plain": [
       "          column  nuniquevalues\n",
       "0  categorycodes             44\n",
       "1  categorynames             41\n",
       "2   porductnames          45685"
      ]
     },
     "execution_count": 6,
     "metadata": {},
     "output_type": "execute_result"
    }
   ],
   "source": [
    "#Number of category codes\n",
    "dfsum = pd.DataFrame(data=[['categorycodes', len(df_products.categorycode.unique())], \n",
    "                           ['categorynames', len(df_products.categoryname.unique())],\n",
    "                           ['porductnames', len(df_products.productname.unique())]],\n",
    "                     columns = ['column', 'nuniquevalues'])\n",
    "dfsum"
   ]
  },
  {
   "cell_type": "markdown",
   "metadata": {},
   "source": [
    "## Why is the number of 'category codes' different to the number of 'category names'?"
   ]
  },
  {
   "cell_type": "markdown",
   "metadata": {},
   "source": [
    "It should have some codes with the same name. Let's check it."
   ]
  },
  {
   "cell_type": "code",
   "execution_count": 7,
   "metadata": {
    "collapsed": true
   },
   "outputs": [],
   "source": [
    "df_categories = df_products[['categorycode', 'categoryname']]\n",
    "df_categories = df_categories.drop_duplicates()"
   ]
  },
  {
   "cell_type": "code",
   "execution_count": 8,
   "metadata": {},
   "outputs": [
    {
     "data": {
      "text/html": [
       "<div>\n",
       "<style>\n",
       "    .dataframe thead tr:only-child th {\n",
       "        text-align: right;\n",
       "    }\n",
       "\n",
       "    .dataframe thead th {\n",
       "        text-align: left;\n",
       "    }\n",
       "\n",
       "    .dataframe tbody tr th {\n",
       "        vertical-align: top;\n",
       "    }\n",
       "</style>\n",
       "<table border=\"1\" class=\"dataframe\">\n",
       "  <thead>\n",
       "    <tr style=\"text-align: right;\">\n",
       "      <th></th>\n",
       "      <th>categorycode</th>\n",
       "      <th>count</th>\n",
       "    </tr>\n",
       "  </thead>\n",
       "  <tbody>\n",
       "    <tr>\n",
       "      <th>0</th>\n",
       "      <td>2</td>\n",
       "      <td>2</td>\n",
       "    </tr>\n",
       "  </tbody>\n",
       "</table>\n",
       "</div>"
      ],
      "text/plain": [
       "   categorycode  count\n",
       "0             2      2"
      ]
     },
     "execution_count": 8,
     "metadata": {},
     "output_type": "execute_result"
    }
   ],
   "source": [
    "df_categories_count = customutils.count(df_categories, ['categorycode'])\n",
    "df_categories_count[df_categories_count['count']>1]"
   ]
  },
  {
   "cell_type": "markdown",
   "metadata": {},
   "source": [
    "The category with code 2 has two names: "
   ]
  },
  {
   "cell_type": "code",
   "execution_count": 9,
   "metadata": {},
   "outputs": [
    {
     "data": {
      "text/plain": [
       "156      Whole Grain/Milled Grain Prod/Starch\n",
       "63953                           Not Available\n",
       "Name: categoryname, dtype: object"
      ]
     },
     "execution_count": 9,
     "metadata": {},
     "output_type": "execute_result"
    }
   ],
   "source": [
    "df_categories[df_categories['categorycode']==2]['categoryname']"
   ]
  },
  {
   "cell_type": "markdown",
   "metadata": {},
   "source": [
    "We observed, that in some rows, the name of the category with code 2 is missing. We'll replace 'Not Available' for 'Whole Grain/Milled Grain Prod/Starch' for solving this issue."
   ]
  },
  {
   "cell_type": "code",
   "execution_count": 10,
   "metadata": {},
   "outputs": [
    {
     "data": {
      "text/plain": [
       "(46002, 3)"
      ]
     },
     "execution_count": 10,
     "metadata": {},
     "output_type": "execute_result"
    }
   ],
   "source": [
    "df_products.shape"
   ]
  },
  {
   "cell_type": "code",
   "execution_count": 11,
   "metadata": {},
   "outputs": [
    {
     "data": {
      "text/plain": [
       "(46002, 3)"
      ]
     },
     "execution_count": 11,
     "metadata": {},
     "output_type": "execute_result"
    }
   ],
   "source": [
    "df_products.loc[df_products['categorycode']==2, ['categoryname']] = 'Whole Grain/Milled Grain Prod/Starch'\n",
    "df_categories.loc[df_categories['categorycode']==2, ['categoryname']] = 'Whole Grain/Milled Grain Prod/Starch'\n",
    "df_products.shape"
   ]
  },
  {
   "cell_type": "markdown",
   "metadata": {},
   "source": [
    "### Are there names with several category codes?"
   ]
  },
  {
   "cell_type": "code",
   "execution_count": 12,
   "metadata": {},
   "outputs": [
    {
     "data": {
      "text/html": [
       "<div>\n",
       "<style>\n",
       "    .dataframe thead tr:only-child th {\n",
       "        text-align: right;\n",
       "    }\n",
       "\n",
       "    .dataframe thead th {\n",
       "        text-align: left;\n",
       "    }\n",
       "\n",
       "    .dataframe tbody tr th {\n",
       "        vertical-align: top;\n",
       "    }\n",
       "</style>\n",
       "<table border=\"1\" class=\"dataframe\">\n",
       "  <thead>\n",
       "    <tr style=\"text-align: right;\">\n",
       "      <th></th>\n",
       "      <th>categoryname</th>\n",
       "      <th>count</th>\n",
       "    </tr>\n",
       "  </thead>\n",
       "  <tbody>\n",
       "    <tr>\n",
       "      <th>20</th>\n",
       "      <td>Fruit/Fruit Prod</td>\n",
       "      <td>3</td>\n",
       "    </tr>\n",
       "    <tr>\n",
       "      <th>17</th>\n",
       "      <td>Food Additives (Human Use)</td>\n",
       "      <td>2</td>\n",
       "    </tr>\n",
       "    <tr>\n",
       "      <th>37</th>\n",
       "      <td>Vegetables/Vegetable Products</td>\n",
       "      <td>2</td>\n",
       "    </tr>\n",
       "    <tr>\n",
       "      <th>39</th>\n",
       "      <td>Whole Grain/Milled Grain Prod/Starch</td>\n",
       "      <td>2</td>\n",
       "    </tr>\n",
       "  </tbody>\n",
       "</table>\n",
       "</div>"
      ],
      "text/plain": [
       "                            categoryname  count\n",
       "20                      Fruit/Fruit Prod      3\n",
       "17            Food Additives (Human Use)      2\n",
       "37         Vegetables/Vegetable Products      2\n",
       "39  Whole Grain/Milled Grain Prod/Starch      2"
      ]
     },
     "execution_count": 12,
     "metadata": {},
     "output_type": "execute_result"
    }
   ],
   "source": [
    "df_categories_count = customutils.count(df_categories, ['categoryname'])\n",
    "df_categories_count = df_categories_count[df_categories_count['count']>1]\n",
    "df_categories_count"
   ]
  },
  {
   "cell_type": "markdown",
   "metadata": {},
   "source": [
    "It seems that some category codes have the same name. Are the products related with those cageories different?\n",
    "\n",
    "** Answer: ** * Several large food-related industries are assigned more than one industry code. These are Fruit and Fruit Products, Vegetables and Vegetable Products, and Food Additives. The easiest way to code products in multiple industry codes is by name search. Enter a word related to the product and review the list that the application returns. If you do select an industry code first, be sure to select all the codes assigned to the product group. For example Fruit and Fruit Products are assigned Industry Codes 20, 21 and 22. Select all three codes to search for all Fruit and Fruit-related products.* https://www.accessdata.fda.gov/scripts/ora/pcb/index.cfm?action=tutorial.tutorial\n"
   ]
  },
  {
   "cell_type": "markdown",
   "metadata": {},
   "source": [
    "## ** Products: ** How many products are there for each category?"
   ]
  },
  {
   "cell_type": "code",
   "execution_count": 13,
   "metadata": {},
   "outputs": [
    {
     "data": {
      "text/html": [
       "<div>\n",
       "<style>\n",
       "    .dataframe thead tr:only-child th {\n",
       "        text-align: right;\n",
       "    }\n",
       "\n",
       "    .dataframe thead th {\n",
       "        text-align: left;\n",
       "    }\n",
       "\n",
       "    .dataframe tbody tr th {\n",
       "        vertical-align: top;\n",
       "    }\n",
       "</style>\n",
       "<table border=\"1\" class=\"dataframe\">\n",
       "  <thead>\n",
       "    <tr style=\"text-align: right;\">\n",
       "      <th></th>\n",
       "      <th>categorycode</th>\n",
       "      <th>categoryname</th>\n",
       "      <th>count</th>\n",
       "    </tr>\n",
       "  </thead>\n",
       "  <tbody>\n",
       "    <tr>\n",
       "      <th>43</th>\n",
       "      <td>54</td>\n",
       "      <td>Vit/Min/Prot/Unconv Diet(Human/Animal)</td>\n",
       "      <td>22373</td>\n",
       "    </tr>\n",
       "    <tr>\n",
       "      <th>42</th>\n",
       "      <td>53</td>\n",
       "      <td>Cosmetics</td>\n",
       "      <td>4154</td>\n",
       "    </tr>\n",
       "    <tr>\n",
       "      <th>1</th>\n",
       "      <td>3</td>\n",
       "      <td>Bakery Prod/Dough/Mix/Icing</td>\n",
       "      <td>1832</td>\n",
       "    </tr>\n",
       "    <tr>\n",
       "      <th>16</th>\n",
       "      <td>23</td>\n",
       "      <td>Nuts/Edible Seed</td>\n",
       "      <td>1529</td>\n",
       "    </tr>\n",
       "    <tr>\n",
       "      <th>22</th>\n",
       "      <td>29</td>\n",
       "      <td>Soft Drink/Water</td>\n",
       "      <td>1501</td>\n",
       "    </tr>\n",
       "  </tbody>\n",
       "</table>\n",
       "</div>"
      ],
      "text/plain": [
       "    categorycode                            categoryname  count\n",
       "43            54  Vit/Min/Prot/Unconv Diet(Human/Animal)  22373\n",
       "42            53                               Cosmetics   4154\n",
       "1              3             Bakery Prod/Dough/Mix/Icing   1832\n",
       "16            23                        Nuts/Edible Seed   1529\n",
       "22            29                        Soft Drink/Water   1501"
      ]
     },
     "execution_count": 13,
     "metadata": {},
     "output_type": "execute_result"
    }
   ],
   "source": [
    "df_product_count = customutils.count(df_products, ['categorycode', 'categoryname'])\n",
    "df_product_count.head()"
   ]
  },
  {
   "cell_type": "code",
   "execution_count": 14,
   "metadata": {},
   "outputs": [
    {
     "data": {
      "image/png": "[encoded data removed]",
      "text/plain": [
       "<matplotlib.figure.Figure at 0x107a88898>"
      ]
     },
     "metadata": {},
     "output_type": "display_data"
    }
   ],
   "source": [
    "plt.figure(figsize=(15,15))\n",
    "\n",
    "sns.set_context(\"notebook\", font_scale=1.5)\n",
    "\n",
    "p = sns.barplot(x='count', y='categoryname', data=df_product_count)\n",
    "for item in p.get_xticklabels():\n",
    "    item.set_rotation(90)\n",
    "\n",
    "plt.show()"
   ]
  },
  {
   "cell_type": "markdown",
   "metadata": {
    "collapsed": true
   },
   "source": [
    "## How many categories are related with each product?"
   ]
  },
  {
   "cell_type": "code",
   "execution_count": 15,
   "metadata": {},
   "outputs": [
    {
     "data": {
      "text/html": [
       "<div>\n",
       "<style>\n",
       "    .dataframe thead tr:only-child th {\n",
       "        text-align: right;\n",
       "    }\n",
       "\n",
       "    .dataframe thead th {\n",
       "        text-align: left;\n",
       "    }\n",
       "\n",
       "    .dataframe tbody tr th {\n",
       "        vertical-align: top;\n",
       "    }\n",
       "</style>\n",
       "<table border=\"1\" class=\"dataframe\">\n",
       "  <thead>\n",
       "    <tr style=\"text-align: right;\">\n",
       "      <th></th>\n",
       "      <th>productname</th>\n",
       "      <th>categorycode</th>\n",
       "      <th>categoryname</th>\n",
       "    </tr>\n",
       "  </thead>\n",
       "  <tbody>\n",
       "    <tr>\n",
       "      <th>0</th>\n",
       "      <td>MIDWEST COUNTRY FAIR CHOCOLATE FLAVORED CHIPS</td>\n",
       "      <td>3</td>\n",
       "      <td>Bakery Prod/Dough/Mix/Icing</td>\n",
       "    </tr>\n",
       "    <tr>\n",
       "      <th>2</th>\n",
       "      <td>KROGER CLASSIC CREAM-DE-MINT CANDY MINT CHIP I...</td>\n",
       "      <td>13</td>\n",
       "      <td>Ice Cream Prod</td>\n",
       "    </tr>\n",
       "    <tr>\n",
       "      <th>3</th>\n",
       "      <td>ENFAMIL LIPIL BABY FORMULA</td>\n",
       "      <td>40</td>\n",
       "      <td>Baby Food Prod</td>\n",
       "    </tr>\n",
       "    <tr>\n",
       "      <th>4</th>\n",
       "      <td>ENFIMIL LIPIL BABY FORMULA</td>\n",
       "      <td>40</td>\n",
       "      <td>Baby Food Prod</td>\n",
       "    </tr>\n",
       "    <tr>\n",
       "      <th>5</th>\n",
       "      <td>FRITO LAY FUNYUNS ONION FLAVOR, ONION RINGS</td>\n",
       "      <td>7</td>\n",
       "      <td>Snack Food Item</td>\n",
       "    </tr>\n",
       "  </tbody>\n",
       "</table>\n",
       "</div>"
      ],
      "text/plain": [
       "                                         productname  categorycode  \\\n",
       "0      MIDWEST COUNTRY FAIR CHOCOLATE FLAVORED CHIPS             3   \n",
       "2  KROGER CLASSIC CREAM-DE-MINT CANDY MINT CHIP I...            13   \n",
       "3                         ENFAMIL LIPIL BABY FORMULA            40   \n",
       "4                         ENFIMIL LIPIL BABY FORMULA            40   \n",
       "5        FRITO LAY FUNYUNS ONION FLAVOR, ONION RINGS             7   \n",
       "\n",
       "                  categoryname  \n",
       "0  Bakery Prod/Dough/Mix/Icing  \n",
       "2               Ice Cream Prod  \n",
       "3               Baby Food Prod  \n",
       "4               Baby Food Prod  \n",
       "5              Snack Food Item  "
      ]
     },
     "execution_count": 15,
     "metadata": {},
     "output_type": "execute_result"
    }
   ],
   "source": [
    "df_products.head()"
   ]
  },
  {
   "cell_type": "code",
   "execution_count": 16,
   "metadata": {
    "collapsed": true
   },
   "outputs": [],
   "source": [
    "df_products_count = customutils.count(df_products, ['productname'])\n",
    "df_products_count.columns = ['productname', 'ncategories']\n",
    "df_count_freq = customutils.count(df_products_count, ['ncategories'])"
   ]
  },
  {
   "cell_type": "code",
   "execution_count": 17,
   "metadata": {},
   "outputs": [
    {
     "data": {
      "text/html": [
       "<div>\n",
       "<style>\n",
       "    .dataframe thead tr:only-child th {\n",
       "        text-align: right;\n",
       "    }\n",
       "\n",
       "    .dataframe thead th {\n",
       "        text-align: left;\n",
       "    }\n",
       "\n",
       "    .dataframe tbody tr th {\n",
       "        vertical-align: top;\n",
       "    }\n",
       "</style>\n",
       "<table border=\"1\" class=\"dataframe\">\n",
       "  <thead>\n",
       "    <tr style=\"text-align: right;\">\n",
       "      <th></th>\n",
       "      <th>ncategories</th>\n",
       "      <th>count</th>\n",
       "    </tr>\n",
       "  </thead>\n",
       "  <tbody>\n",
       "    <tr>\n",
       "      <th>0</th>\n",
       "      <td>1</td>\n",
       "      <td>45428</td>\n",
       "    </tr>\n",
       "    <tr>\n",
       "      <th>1</th>\n",
       "      <td>2</td>\n",
       "      <td>230</td>\n",
       "    </tr>\n",
       "    <tr>\n",
       "      <th>2</th>\n",
       "      <td>3</td>\n",
       "      <td>23</td>\n",
       "    </tr>\n",
       "    <tr>\n",
       "      <th>3</th>\n",
       "      <td>4</td>\n",
       "      <td>3</td>\n",
       "    </tr>\n",
       "    <tr>\n",
       "      <th>4</th>\n",
       "      <td>33</td>\n",
       "      <td>1</td>\n",
       "    </tr>\n",
       "  </tbody>\n",
       "</table>\n",
       "</div>"
      ],
      "text/plain": [
       "   ncategories  count\n",
       "0            1  45428\n",
       "1            2    230\n",
       "2            3     23\n",
       "3            4      3\n",
       "4           33      1"
      ]
     },
     "execution_count": 17,
     "metadata": {},
     "output_type": "execute_result"
    }
   ],
   "source": [
    "df_count_freq"
   ]
  },
  {
   "cell_type": "code",
   "execution_count": 18,
   "metadata": {},
   "outputs": [
    {
     "data": {
      "text/html": [
       "<div>\n",
       "<style>\n",
       "    .dataframe thead tr:only-child th {\n",
       "        text-align: right;\n",
       "    }\n",
       "\n",
       "    .dataframe thead th {\n",
       "        text-align: left;\n",
       "    }\n",
       "\n",
       "    .dataframe tbody tr th {\n",
       "        vertical-align: top;\n",
       "    }\n",
       "</style>\n",
       "<table border=\"1\" class=\"dataframe\">\n",
       "  <thead>\n",
       "    <tr style=\"text-align: right;\">\n",
       "      <th></th>\n",
       "      <th>productname</th>\n",
       "      <th>ncategories</th>\n",
       "    </tr>\n",
       "  </thead>\n",
       "  <tbody>\n",
       "    <tr>\n",
       "      <th>35179</th>\n",
       "      <td>REDACTED</td>\n",
       "      <td>33</td>\n",
       "    </tr>\n",
       "    <tr>\n",
       "      <th>22108</th>\n",
       "      <td>LITTLE DEBBIE NUTTY BARS</td>\n",
       "      <td>4</td>\n",
       "    </tr>\n",
       "    <tr>\n",
       "      <th>41786</th>\n",
       "      <td>TURMERIC</td>\n",
       "      <td>4</td>\n",
       "    </tr>\n",
       "    <tr>\n",
       "      <th>36165</th>\n",
       "      <td>SALAD</td>\n",
       "      <td>4</td>\n",
       "    </tr>\n",
       "    <tr>\n",
       "      <th>14302</th>\n",
       "      <td>GARLIC</td>\n",
       "      <td>3</td>\n",
       "    </tr>\n",
       "  </tbody>\n",
       "</table>\n",
       "</div>"
      ],
      "text/plain": [
       "                    productname  ncategories\n",
       "35179                  REDACTED           33\n",
       "22108  LITTLE DEBBIE NUTTY BARS            4\n",
       "41786                  TURMERIC            4\n",
       "36165                     SALAD            4\n",
       "14302                    GARLIC            3"
      ]
     },
     "execution_count": 18,
     "metadata": {},
     "output_type": "execute_result"
    }
   ],
   "source": [
    "df_products_count.head()"
   ]
  },
  {
   "cell_type": "markdown",
   "metadata": {
    "collapsed": true
   },
   "source": [
    "Finally, we will remove the prodructs labeled as \"REDACTED\"."
   ]
  },
  {
   "cell_type": "code",
   "execution_count": 19,
   "metadata": {},
   "outputs": [
    {
     "data": {
      "text/plain": [
       "(46002, 3)"
      ]
     },
     "execution_count": 19,
     "metadata": {},
     "output_type": "execute_result"
    }
   ],
   "source": [
    "df_products.shape"
   ]
  },
  {
   "cell_type": "code",
   "execution_count": 20,
   "metadata": {},
   "outputs": [
    {
     "data": {
      "text/plain": [
       "(45969, 3)"
      ]
     },
     "execution_count": 20,
     "metadata": {},
     "output_type": "execute_result"
    }
   ],
   "source": [
    "df_products = df_products[df_products.productname != 'REDACTED']\n",
    "df_products.shape"
   ]
  },
  {
   "cell_type": "markdown",
   "metadata": {},
   "source": [
    "# Sumary"
   ]
  },
  {
   "cell_type": "markdown",
   "metadata": {},
   "source": [
    "- We have explored the dataset to know better the relationships betweet products and categories.\n",
    "- We have detected that category 2 is wronly labeled in some rows.\n",
    "- Some categories group many products (fruits, vegetables..) so there are more than one category code for these categories.\n",
    "- We have remove the product with name \"REDACTED\" because it is not possible to figure out the real product name.\n",
    "- We have done a preeliminary exploration of the distribution the producs an categories and we have seen that a category is very frequent in the data set: \"Vit/Min/Prot/Unconv diet(Human/Animal)\""
   ]
  },
  {
   "cell_type": "code",
   "execution_count": 21,
   "metadata": {},
   "outputs": [
    {
     "data": {
      "text/plain": [
       "(45969, 3)"
      ]
     },
     "execution_count": 21,
     "metadata": {},
     "output_type": "execute_result"
    }
   ],
   "source": [
    "df_products.shape"
   ]
  },
  {
   "cell_type": "code",
   "execution_count": null,
   "metadata": {
    "collapsed": true
   },
   "outputs": [],
   "source": []
  }
 ],
 "metadata": {
  "kernelspec": {
   "display_name": "Python 3",
   "language": "python",
   "name": "python3"
  },
  "language_info": {
   "codemirror_mode": {
    "name": "ipython",
    "version": 3
   },
   "file_extension": ".py",
   "mimetype": "text/x-python",
   "name": "python",
   "nbconvert_exporter": "python",
   "pygments_lexer": "ipython3",
   "version": "3.6.3"
  }
 },
 "nbformat": 4,
 "nbformat_minor": 2
}
